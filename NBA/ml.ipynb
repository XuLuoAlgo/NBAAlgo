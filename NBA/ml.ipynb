{
 "cells": [
  {
   "cell_type": "code",
   "execution_count": 28,
   "id": "4bc98145",
   "metadata": {},
   "outputs": [
    {
     "data": {
      "text/plain": [
       "<module 'utils' from '/Users/danluo8/Desktop/dev/projects/Algos/NbaAlgo/NBA/utils.py'>"
      ]
     },
     "execution_count": 28,
     "metadata": {},
     "output_type": "execute_result"
    }
   ],
   "source": [
    "from importlib import reload\n",
    "import utils\n",
    "reload(utils)"
   ]
  },
  {
   "cell_type": "code",
   "execution_count": 33,
   "id": "85d93c33",
   "metadata": {},
   "outputs": [],
   "source": [
    "import os\n",
    "from utils import get_df_from_csvs\n",
    "\n",
    "csv_dir = f\"{os.getcwd()}/data\"\n",
    "df = get_df_from_csvs(csv_dir)"
   ]
  },
  {
   "cell_type": "code",
   "execution_count": null,
   "id": "0ee9519c",
   "metadata": {},
   "outputs": [],
   "source": []
  }
 ],
 "metadata": {
  "kernelspec": {
   "display_name": ".venv",
   "language": "python",
   "name": "python3"
  },
  "language_info": {
   "codemirror_mode": {
    "name": "ipython",
    "version": 3
   },
   "file_extension": ".py",
   "mimetype": "text/x-python",
   "name": "python",
   "nbconvert_exporter": "python",
   "pygments_lexer": "ipython3",
   "version": "3.10.10"
  }
 },
 "nbformat": 4,
 "nbformat_minor": 5
}
